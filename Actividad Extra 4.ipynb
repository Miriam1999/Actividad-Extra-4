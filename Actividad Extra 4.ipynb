{
 "cells": [
  {
   "cell_type": "markdown",
   "metadata": {},
   "source": [
    "La **simulación de Montecarlo** sirve para analizar el riesgo de alguna estrategia de inversión por lo que este tema del curso es muy útil para mi carrera y estoy segura de que lo seguiré utilizando en el futuro. *El objetivo de esta simulación es probar diversos posibles resultados dado cierta decisión previamente tomada*."
   ]
  },
  {
   "cell_type": "markdown",
   "metadata": {},
   "source": [
    "Esto anterior es lo único teórico que se menciona sobre la **simulación de Montecarlo** tanto en el video como en el texto de explicación. Lo demás es un ejemplo sobre una ruleta de apuestas, donde la casa tiene el 51% de probabilidad de ganar y el jugador tiene el 49%. Se habla de que aunque la ventaja de la casa sea de tan sólo 1%, esto es suficiente para que el jugador pierda a la larga. Además menciona otro ejemplo muy interesante sobre lanzar una moneda al aire. La falacia de gambler (de la cual nunca había oído hablar) supondría que hay una probabilidad 50/50 de que salga cualquier cara de la moneda, pero existen muchísimos más factores que pueden influir en el resultado; por ejemplo, que las caras no estén perfectamente balanceadas. La **simulación de Montecarlo** nos permitiría tomar en cuenta estos factores extras (que no tomamos mucho en cuenta pero tienen una importante repercusión en el resultado), para poder predecir las consecuencias de nuestras decisiones."
   ]
  }
 ],
 "metadata": {
  "kernelspec": {
   "display_name": "Python 3",
   "language": "python",
   "name": "python3"
  },
  "language_info": {
   "codemirror_mode": {
    "name": "ipython",
    "version": 3
   },
   "file_extension": ".py",
   "mimetype": "text/x-python",
   "name": "python",
   "nbconvert_exporter": "python",
   "pygments_lexer": "ipython3",
   "version": "3.7.3"
  }
 },
 "nbformat": 4,
 "nbformat_minor": 2
}
